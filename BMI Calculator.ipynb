{
 "cells": [
  {
   "cell_type": "markdown",
   "id": "75a3c56b",
   "metadata": {},
   "source": [
    "#BODY MASS INDEX IS A MEASURE OF RELATIVE WEIGHT BASED ON INDIVIDUAL'S MASS AND HEIGHT"
   ]
  },
  {
   "cell_type": "code",
   "execution_count": 3,
   "id": "58807457",
   "metadata": {},
   "outputs": [
    {
     "name": "stdout",
     "output_type": "stream",
     "text": [
      "Enter your height in centimeters: 170\n",
      "Enter your weight in kilograms: 53\n",
      "Your Body Mass Index is:  18.339100346020764\n",
      "you are underweight\n"
     ]
    }
   ],
   "source": [
    "Height = float(input(\"Enter your height in centimeters: \"))\n",
    "Weight = float(input(\"Enter your weight in kilograms: \"))\n",
    "Height = Height/100\n",
    "BMI = Weight/(Height*Height)\n",
    "print(\"Your Body Mass Index is: \",BMI)\n",
    "if(BMI>0):\n",
    "    if(BMI<=16):\n",
    "        print(\"you are severely underweight\")\n",
    "    elif(BMI<=18.5):\n",
    "        print(\"you are underweight\")\n",
    "    elif(BMI<=25):\n",
    "        print(\"you are Healthy\")\n",
    "    elif(BMI<=30):\n",
    "        print(\"you are overweight\")\n",
    "    else: \n",
    "        print(\"you are severely overweight\")\n",
    "else:(\"enter valid details\")"
   ]
  }
 ],
 "metadata": {
  "kernelspec": {
   "display_name": "Python 3 (ipykernel)",
   "language": "python",
   "name": "python3"
  },
  "language_info": {
   "codemirror_mode": {
    "name": "ipython",
    "version": 3
   },
   "file_extension": ".py",
   "mimetype": "text/x-python",
   "name": "python",
   "nbconvert_exporter": "python",
   "pygments_lexer": "ipython3",
   "version": "3.9.12"
  }
 },
 "nbformat": 4,
 "nbformat_minor": 5
}
